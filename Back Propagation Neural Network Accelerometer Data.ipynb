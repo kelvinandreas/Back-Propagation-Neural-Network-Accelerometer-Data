{
 "cells": [
  {
   "cell_type": "markdown",
   "metadata": {},
   "source": [
    "# Back Propagation Neural Network Accelerometer Data"
   ]
  },
  {
   "cell_type": "markdown",
   "metadata": {},
   "source": [
    "## Case 1"
   ]
  },
  {
   "cell_type": "code",
   "execution_count": null,
   "metadata": {},
   "outputs": [
    {
     "name": "stderr",
     "output_type": "stream",
     "text": [
      "2024-11-08 08:46:47.467449: I tensorflow/core/util/port.cc:153] oneDNN custom operations are on. You may see slightly different numerical results due to floating-point round-off errors from different computation orders. To turn them off, set the environment variable `TF_ENABLE_ONEDNN_OPTS=0`.\n",
      "2024-11-08 08:46:47.898186: E external/local_xla/xla/stream_executor/cuda/cuda_fft.cc:485] Unable to register cuFFT factory: Attempting to register factory for plugin cuFFT when one has already been registered\n",
      "2024-11-08 08:46:48.035293: E external/local_xla/xla/stream_executor/cuda/cuda_dnn.cc:8454] Unable to register cuDNN factory: Attempting to register factory for plugin cuDNN when one has already been registered\n",
      "2024-11-08 08:46:48.074736: E external/local_xla/xla/stream_executor/cuda/cuda_blas.cc:1452] Unable to register cuBLAS factory: Attempting to register factory for plugin cuBLAS when one has already been registered\n",
      "2024-11-08 08:46:48.376952: I tensorflow/core/platform/cpu_feature_guard.cc:210] This TensorFlow binary is optimized to use available CPU instructions in performance-critical operations.\n",
      "To enable the following instructions: AVX2 AVX512F AVX512_VNNI FMA, in other operations, rebuild TensorFlow with the appropriate compiler flags.\n",
      "2024-11-08 08:46:52.069222: W tensorflow/compiler/tf2tensorrt/utils/py_utils.cc:38] TF-TRT Warning: Could not find TensorRT\n"
     ]
    }
   ],
   "source": [
    "# Import library yang dibutuhkan\n",
    "import numpy as np\n",
    "import pandas as pd\n",
    "import seaborn as sns\n",
    "import matplotlib.pyplot as plt\n",
    "\n",
    "from sklearn.preprocessing import StandardScaler\n",
    "from sklearn.ensemble import RandomForestClassifier\n",
    "from sklearn.model_selection import train_test_split\n",
    "from sklearn.metrics import confusion_matrix, classification_report\n",
    "\n",
    "from tensorflow.keras.models import Sequential\n",
    "from tensorflow.keras.layers import Dense\n",
    "from tensorflow.keras.optimizers import Adam"
   ]
  },
  {
   "cell_type": "code",
   "execution_count": 2,
   "metadata": {},
   "outputs": [
    {
     "data": {
      "text/html": [
       "<div>\n",
       "<style scoped>\n",
       "    .dataframe tbody tr th:only-of-type {\n",
       "        vertical-align: middle;\n",
       "    }\n",
       "\n",
       "    .dataframe tbody tr th {\n",
       "        vertical-align: top;\n",
       "    }\n",
       "\n",
       "    .dataframe thead th {\n",
       "        text-align: right;\n",
       "    }\n",
       "</style>\n",
       "<table border=\"1\" class=\"dataframe\">\n",
       "  <thead>\n",
       "    <tr style=\"text-align: right;\">\n",
       "      <th></th>\n",
       "      <th>tBodyAcc-mean()-X</th>\n",
       "      <th>tBodyAcc-mean()-Y</th>\n",
       "      <th>tBodyAcc-mean()-Z</th>\n",
       "      <th>tBodyAcc-std()-X</th>\n",
       "      <th>tBodyAcc-std()-Y</th>\n",
       "      <th>tBodyAcc-std()-Z</th>\n",
       "      <th>tBodyAcc-mad()-X</th>\n",
       "      <th>tBodyAcc-mad()-Y</th>\n",
       "      <th>tBodyAcc-mad()-Z</th>\n",
       "      <th>tBodyAcc-max()-X</th>\n",
       "      <th>...</th>\n",
       "      <th>fBodyBodyGyroJerkMag-kurtosis()</th>\n",
       "      <th>angle(tBodyAccMean,gravity)</th>\n",
       "      <th>angle(tBodyAccJerkMean),gravityMean)</th>\n",
       "      <th>angle(tBodyGyroMean,gravityMean)</th>\n",
       "      <th>angle(tBodyGyroJerkMean,gravityMean)</th>\n",
       "      <th>angle(X,gravityMean)</th>\n",
       "      <th>angle(Y,gravityMean)</th>\n",
       "      <th>angle(Z,gravityMean)</th>\n",
       "      <th>subject</th>\n",
       "      <th>Activity</th>\n",
       "    </tr>\n",
       "  </thead>\n",
       "  <tbody>\n",
       "    <tr>\n",
       "      <th>0</th>\n",
       "      <td>0.257178</td>\n",
       "      <td>-0.023285</td>\n",
       "      <td>-0.014654</td>\n",
       "      <td>-0.938404</td>\n",
       "      <td>-0.920091</td>\n",
       "      <td>-0.667683</td>\n",
       "      <td>-0.952501</td>\n",
       "      <td>-0.925249</td>\n",
       "      <td>-0.674302</td>\n",
       "      <td>-0.894088</td>\n",
       "      <td>...</td>\n",
       "      <td>-0.705974</td>\n",
       "      <td>0.006462</td>\n",
       "      <td>0.162920</td>\n",
       "      <td>-0.825886</td>\n",
       "      <td>0.271151</td>\n",
       "      <td>-0.720009</td>\n",
       "      <td>0.276801</td>\n",
       "      <td>-0.057978</td>\n",
       "      <td>2</td>\n",
       "      <td>STANDING</td>\n",
       "    </tr>\n",
       "    <tr>\n",
       "      <th>1</th>\n",
       "      <td>0.286027</td>\n",
       "      <td>-0.013163</td>\n",
       "      <td>-0.119083</td>\n",
       "      <td>-0.975415</td>\n",
       "      <td>-0.967458</td>\n",
       "      <td>-0.944958</td>\n",
       "      <td>-0.986799</td>\n",
       "      <td>-0.968401</td>\n",
       "      <td>-0.945823</td>\n",
       "      <td>-0.894088</td>\n",
       "      <td>...</td>\n",
       "      <td>-0.594944</td>\n",
       "      <td>-0.083495</td>\n",
       "      <td>0.017500</td>\n",
       "      <td>-0.434375</td>\n",
       "      <td>0.920593</td>\n",
       "      <td>-0.698091</td>\n",
       "      <td>0.281343</td>\n",
       "      <td>-0.083898</td>\n",
       "      <td>2</td>\n",
       "      <td>STANDING</td>\n",
       "    </tr>\n",
       "    <tr>\n",
       "      <th>2</th>\n",
       "      <td>0.275485</td>\n",
       "      <td>-0.026050</td>\n",
       "      <td>-0.118152</td>\n",
       "      <td>-0.993819</td>\n",
       "      <td>-0.969926</td>\n",
       "      <td>-0.962748</td>\n",
       "      <td>-0.994403</td>\n",
       "      <td>-0.970735</td>\n",
       "      <td>-0.963483</td>\n",
       "      <td>-0.939260</td>\n",
       "      <td>...</td>\n",
       "      <td>-0.640736</td>\n",
       "      <td>-0.034956</td>\n",
       "      <td>0.202302</td>\n",
       "      <td>0.064103</td>\n",
       "      <td>0.145068</td>\n",
       "      <td>-0.702771</td>\n",
       "      <td>0.280083</td>\n",
       "      <td>-0.079346</td>\n",
       "      <td>2</td>\n",
       "      <td>STANDING</td>\n",
       "    </tr>\n",
       "    <tr>\n",
       "      <th>3</th>\n",
       "      <td>0.270298</td>\n",
       "      <td>-0.032614</td>\n",
       "      <td>-0.117520</td>\n",
       "      <td>-0.994743</td>\n",
       "      <td>-0.973268</td>\n",
       "      <td>-0.967091</td>\n",
       "      <td>-0.995274</td>\n",
       "      <td>-0.974471</td>\n",
       "      <td>-0.968897</td>\n",
       "      <td>-0.938610</td>\n",
       "      <td>...</td>\n",
       "      <td>-0.736124</td>\n",
       "      <td>-0.017067</td>\n",
       "      <td>0.154438</td>\n",
       "      <td>0.340134</td>\n",
       "      <td>0.296407</td>\n",
       "      <td>-0.698954</td>\n",
       "      <td>0.284114</td>\n",
       "      <td>-0.077108</td>\n",
       "      <td>2</td>\n",
       "      <td>STANDING</td>\n",
       "    </tr>\n",
       "    <tr>\n",
       "      <th>4</th>\n",
       "      <td>0.274833</td>\n",
       "      <td>-0.027848</td>\n",
       "      <td>-0.129527</td>\n",
       "      <td>-0.993852</td>\n",
       "      <td>-0.967445</td>\n",
       "      <td>-0.978295</td>\n",
       "      <td>-0.994111</td>\n",
       "      <td>-0.965953</td>\n",
       "      <td>-0.977346</td>\n",
       "      <td>-0.938610</td>\n",
       "      <td>...</td>\n",
       "      <td>-0.846595</td>\n",
       "      <td>-0.002223</td>\n",
       "      <td>-0.040046</td>\n",
       "      <td>0.736715</td>\n",
       "      <td>-0.118545</td>\n",
       "      <td>-0.692245</td>\n",
       "      <td>0.290722</td>\n",
       "      <td>-0.073857</td>\n",
       "      <td>2</td>\n",
       "      <td>STANDING</td>\n",
       "    </tr>\n",
       "  </tbody>\n",
       "</table>\n",
       "<p>5 rows × 563 columns</p>\n",
       "</div>"
      ],
      "text/plain": [
       "   tBodyAcc-mean()-X  tBodyAcc-mean()-Y  tBodyAcc-mean()-Z  tBodyAcc-std()-X  \\\n",
       "0           0.257178          -0.023285          -0.014654         -0.938404   \n",
       "1           0.286027          -0.013163          -0.119083         -0.975415   \n",
       "2           0.275485          -0.026050          -0.118152         -0.993819   \n",
       "3           0.270298          -0.032614          -0.117520         -0.994743   \n",
       "4           0.274833          -0.027848          -0.129527         -0.993852   \n",
       "\n",
       "   tBodyAcc-std()-Y  tBodyAcc-std()-Z  tBodyAcc-mad()-X  tBodyAcc-mad()-Y  \\\n",
       "0         -0.920091         -0.667683         -0.952501         -0.925249   \n",
       "1         -0.967458         -0.944958         -0.986799         -0.968401   \n",
       "2         -0.969926         -0.962748         -0.994403         -0.970735   \n",
       "3         -0.973268         -0.967091         -0.995274         -0.974471   \n",
       "4         -0.967445         -0.978295         -0.994111         -0.965953   \n",
       "\n",
       "   tBodyAcc-mad()-Z  tBodyAcc-max()-X  ...  fBodyBodyGyroJerkMag-kurtosis()  \\\n",
       "0         -0.674302         -0.894088  ...                        -0.705974   \n",
       "1         -0.945823         -0.894088  ...                        -0.594944   \n",
       "2         -0.963483         -0.939260  ...                        -0.640736   \n",
       "3         -0.968897         -0.938610  ...                        -0.736124   \n",
       "4         -0.977346         -0.938610  ...                        -0.846595   \n",
       "\n",
       "   angle(tBodyAccMean,gravity)  angle(tBodyAccJerkMean),gravityMean)  \\\n",
       "0                     0.006462                              0.162920   \n",
       "1                    -0.083495                              0.017500   \n",
       "2                    -0.034956                              0.202302   \n",
       "3                    -0.017067                              0.154438   \n",
       "4                    -0.002223                             -0.040046   \n",
       "\n",
       "   angle(tBodyGyroMean,gravityMean)  angle(tBodyGyroJerkMean,gravityMean)  \\\n",
       "0                         -0.825886                              0.271151   \n",
       "1                         -0.434375                              0.920593   \n",
       "2                          0.064103                              0.145068   \n",
       "3                          0.340134                              0.296407   \n",
       "4                          0.736715                             -0.118545   \n",
       "\n",
       "   angle(X,gravityMean)  angle(Y,gravityMean)  angle(Z,gravityMean)  subject  \\\n",
       "0             -0.720009              0.276801             -0.057978        2   \n",
       "1             -0.698091              0.281343             -0.083898        2   \n",
       "2             -0.702771              0.280083             -0.079346        2   \n",
       "3             -0.698954              0.284114             -0.077108        2   \n",
       "4             -0.692245              0.290722             -0.073857        2   \n",
       "\n",
       "   Activity  \n",
       "0  STANDING  \n",
       "1  STANDING  \n",
       "2  STANDING  \n",
       "3  STANDING  \n",
       "4  STANDING  \n",
       "\n",
       "[5 rows x 563 columns]"
      ]
     },
     "execution_count": 2,
     "metadata": {},
     "output_type": "execute_result"
    }
   ],
   "source": [
    "dataset = pd.read_csv('./accelerometer_data.csv')\n",
    "dataset.head()"
   ]
  },
  {
   "cell_type": "markdown",
   "metadata": {},
   "source": [
    "### a. Memilih 15 fitur penting dan terapkan normalisasi "
   ]
  },
  {
   "cell_type": "code",
   "execution_count": null,
   "metadata": {},
   "outputs": [
    {
     "data": {
      "text/html": [
       "<div>\n",
       "<style scoped>\n",
       "    .dataframe tbody tr th:only-of-type {\n",
       "        vertical-align: middle;\n",
       "    }\n",
       "\n",
       "    .dataframe tbody tr th {\n",
       "        vertical-align: top;\n",
       "    }\n",
       "\n",
       "    .dataframe thead th {\n",
       "        text-align: right;\n",
       "    }\n",
       "</style>\n",
       "<table border=\"1\" class=\"dataframe\">\n",
       "  <thead>\n",
       "    <tr style=\"text-align: right;\">\n",
       "      <th></th>\n",
       "      <th>tGravityAcc-mean()-X</th>\n",
       "      <th>tGravityAcc-max()-X</th>\n",
       "      <th>tGravityAcc-min()-X</th>\n",
       "      <th>angle(X,gravityMean)</th>\n",
       "      <th>tGravityAcc-energy()-X</th>\n",
       "      <th>tGravityAcc-max()-Y</th>\n",
       "      <th>angle(Y,gravityMean)</th>\n",
       "      <th>tGravityAcc-mean()-Y</th>\n",
       "      <th>tGravityAcc-min()-Y</th>\n",
       "      <th>fBodyAccMag-mad()</th>\n",
       "      <th>tGravityAcc-energy()-Y</th>\n",
       "      <th>fBodyAccMag-std()</th>\n",
       "      <th>tGravityAcc-arCoeff()-Y,2</th>\n",
       "      <th>fBodyBodyAccJerkMag-sma()</th>\n",
       "      <th>fBodyBodyAccJerkMag-iqr()</th>\n",
       "      <th>Activity</th>\n",
       "    </tr>\n",
       "  </thead>\n",
       "  <tbody>\n",
       "    <tr>\n",
       "      <th>0</th>\n",
       "      <td>0.936489</td>\n",
       "      <td>0.906083</td>\n",
       "      <td>0.944461</td>\n",
       "      <td>-0.720009</td>\n",
       "      <td>0.829297</td>\n",
       "      <td>-0.279244</td>\n",
       "      <td>0.276801</td>\n",
       "      <td>-0.282719</td>\n",
       "      <td>-0.262160</td>\n",
       "      <td>-0.726707</td>\n",
       "      <td>-0.864621</td>\n",
       "      <td>-0.711074</td>\n",
       "      <td>0.781314</td>\n",
       "      <td>-0.895061</td>\n",
       "      <td>-0.921477</td>\n",
       "      <td>STANDING</td>\n",
       "    </tr>\n",
       "    <tr>\n",
       "      <th>1</th>\n",
       "      <td>0.927404</td>\n",
       "      <td>0.856176</td>\n",
       "      <td>0.944461</td>\n",
       "      <td>-0.698091</td>\n",
       "      <td>0.805575</td>\n",
       "      <td>-0.304870</td>\n",
       "      <td>0.281343</td>\n",
       "      <td>-0.289215</td>\n",
       "      <td>-0.262160</td>\n",
       "      <td>-0.960680</td>\n",
       "      <td>-0.858163</td>\n",
       "      <td>-0.959746</td>\n",
       "      <td>0.733171</td>\n",
       "      <td>-0.945437</td>\n",
       "      <td>-0.957178</td>\n",
       "      <td>STANDING</td>\n",
       "    </tr>\n",
       "    <tr>\n",
       "      <th>2</th>\n",
       "      <td>0.929915</td>\n",
       "      <td>0.856269</td>\n",
       "      <td>0.948704</td>\n",
       "      <td>-0.702771</td>\n",
       "      <td>0.812044</td>\n",
       "      <td>-0.304870</td>\n",
       "      <td>0.280083</td>\n",
       "      <td>-0.287513</td>\n",
       "      <td>-0.261661</td>\n",
       "      <td>-0.977176</td>\n",
       "      <td>-0.859947</td>\n",
       "      <td>-0.983784</td>\n",
       "      <td>0.168700</td>\n",
       "      <td>-0.971069</td>\n",
       "      <td>-0.978222</td>\n",
       "      <td>STANDING</td>\n",
       "    </tr>\n",
       "    <tr>\n",
       "      <th>3</th>\n",
       "      <td>0.928881</td>\n",
       "      <td>0.856269</td>\n",
       "      <td>0.947309</td>\n",
       "      <td>-0.698954</td>\n",
       "      <td>0.809379</td>\n",
       "      <td>-0.305101</td>\n",
       "      <td>0.284114</td>\n",
       "      <td>-0.293396</td>\n",
       "      <td>-0.272916</td>\n",
       "      <td>-0.976796</td>\n",
       "      <td>-0.853713</td>\n",
       "      <td>-0.982120</td>\n",
       "      <td>0.176241</td>\n",
       "      <td>-0.971655</td>\n",
       "      <td>-0.980365</td>\n",
       "      <td>STANDING</td>\n",
       "    </tr>\n",
       "    <tr>\n",
       "      <th>4</th>\n",
       "      <td>0.926600</td>\n",
       "      <td>0.853942</td>\n",
       "      <td>0.946221</td>\n",
       "      <td>-0.692245</td>\n",
       "      <td>0.803500</td>\n",
       "      <td>-0.312552</td>\n",
       "      <td>0.290722</td>\n",
       "      <td>-0.302961</td>\n",
       "      <td>-0.279190</td>\n",
       "      <td>-0.975706</td>\n",
       "      <td>-0.843378</td>\n",
       "      <td>-0.978838</td>\n",
       "      <td>0.462677</td>\n",
       "      <td>-0.987489</td>\n",
       "      <td>-0.989996</td>\n",
       "      <td>STANDING</td>\n",
       "    </tr>\n",
       "  </tbody>\n",
       "</table>\n",
       "</div>"
      ],
      "text/plain": [
       "   tGravityAcc-mean()-X  tGravityAcc-max()-X  tGravityAcc-min()-X  \\\n",
       "0              0.936489             0.906083             0.944461   \n",
       "1              0.927404             0.856176             0.944461   \n",
       "2              0.929915             0.856269             0.948704   \n",
       "3              0.928881             0.856269             0.947309   \n",
       "4              0.926600             0.853942             0.946221   \n",
       "\n",
       "   angle(X,gravityMean)  tGravityAcc-energy()-X  tGravityAcc-max()-Y  \\\n",
       "0             -0.720009                0.829297            -0.279244   \n",
       "1             -0.698091                0.805575            -0.304870   \n",
       "2             -0.702771                0.812044            -0.304870   \n",
       "3             -0.698954                0.809379            -0.305101   \n",
       "4             -0.692245                0.803500            -0.312552   \n",
       "\n",
       "   angle(Y,gravityMean)  tGravityAcc-mean()-Y  tGravityAcc-min()-Y  \\\n",
       "0              0.276801             -0.282719            -0.262160   \n",
       "1              0.281343             -0.289215            -0.262160   \n",
       "2              0.280083             -0.287513            -0.261661   \n",
       "3              0.284114             -0.293396            -0.272916   \n",
       "4              0.290722             -0.302961            -0.279190   \n",
       "\n",
       "   fBodyAccMag-mad()  tGravityAcc-energy()-Y  fBodyAccMag-std()  \\\n",
       "0          -0.726707               -0.864621          -0.711074   \n",
       "1          -0.960680               -0.858163          -0.959746   \n",
       "2          -0.977176               -0.859947          -0.983784   \n",
       "3          -0.976796               -0.853713          -0.982120   \n",
       "4          -0.975706               -0.843378          -0.978838   \n",
       "\n",
       "   tGravityAcc-arCoeff()-Y,2  fBodyBodyAccJerkMag-sma()  \\\n",
       "0                   0.781314                  -0.895061   \n",
       "1                   0.733171                  -0.945437   \n",
       "2                   0.168700                  -0.971069   \n",
       "3                   0.176241                  -0.971655   \n",
       "4                   0.462677                  -0.987489   \n",
       "\n",
       "   fBodyBodyAccJerkMag-iqr()  Activity  \n",
       "0                  -0.921477  STANDING  \n",
       "1                  -0.957178  STANDING  \n",
       "2                  -0.978222  STANDING  \n",
       "3                  -0.980365  STANDING  \n",
       "4                  -0.989996  STANDING  "
      ]
     },
     "execution_count": 3,
     "metadata": {},
     "output_type": "execute_result"
    }
   ],
   "source": [
    "features = dataset.drop(columns=['Activity'])\n",
    "label = dataset['Activity']\n",
    "\n",
    "# Melakukan pemilihan 15 fitur penting menggunakan Random Forest\n",
    "rf = RandomForestClassifier(random_state=42)\n",
    "rf.fit(features, label)\n",
    "\n",
    "feature_importances = pd.Series(rf.feature_importances_, index=features.columns)\n",
    "selected_features = feature_importances.nlargest(15).index.tolist()\n",
    "\n",
    "# Menambahkan kolom label sebagai target variabel di filtered dataset\n",
    "selected_features.append('Activity')\n",
    "\n",
    "filtered_dataset = dataset[selected_features]\n",
    "filtered_dataset.head()"
   ]
  },
  {
   "cell_type": "code",
   "execution_count": 4,
   "metadata": {},
   "outputs": [
    {
     "data": {
      "text/plain": [
       "tGravityAcc-mean()-X         float64\n",
       "tGravityAcc-max()-X          float64\n",
       "tGravityAcc-min()-X          float64\n",
       "angle(X,gravityMean)         float64\n",
       "tGravityAcc-energy()-X       float64\n",
       "tGravityAcc-max()-Y          float64\n",
       "angle(Y,gravityMean)         float64\n",
       "tGravityAcc-mean()-Y         float64\n",
       "tGravityAcc-min()-Y          float64\n",
       "fBodyAccMag-mad()            float64\n",
       "tGravityAcc-energy()-Y       float64\n",
       "fBodyAccMag-std()            float64\n",
       "tGravityAcc-arCoeff()-Y,2    float64\n",
       "fBodyBodyAccJerkMag-sma()    float64\n",
       "fBodyBodyAccJerkMag-iqr()    float64\n",
       "Activity                      object\n",
       "dtype: object"
      ]
     },
     "execution_count": 4,
     "metadata": {},
     "output_type": "execute_result"
    }
   ],
   "source": [
    "filtered_dataset.dtypes"
   ]
  },
  {
   "cell_type": "code",
   "execution_count": 5,
   "metadata": {},
   "outputs": [
    {
     "name": "stdout",
     "output_type": "stream",
     "text": [
      "Jumlah nilai null per kolom:\n",
      " tGravityAcc-mean()-X         0\n",
      "tGravityAcc-max()-X          0\n",
      "tGravityAcc-min()-X          0\n",
      "angle(X,gravityMean)         0\n",
      "tGravityAcc-energy()-X       0\n",
      "tGravityAcc-max()-Y          0\n",
      "angle(Y,gravityMean)         0\n",
      "tGravityAcc-mean()-Y         0\n",
      "tGravityAcc-min()-Y          0\n",
      "fBodyAccMag-mad()            0\n",
      "tGravityAcc-energy()-Y       0\n",
      "fBodyAccMag-std()            0\n",
      "tGravityAcc-arCoeff()-Y,2    0\n",
      "fBodyBodyAccJerkMag-sma()    0\n",
      "fBodyBodyAccJerkMag-iqr()    0\n",
      "Activity                     0\n",
      "dtype: int64\n"
     ]
    }
   ],
   "source": [
    "print(\"Jumlah nilai null per kolom:\\n\", filtered_dataset.isnull().sum())"
   ]
  },
  {
   "cell_type": "code",
   "execution_count": 6,
   "metadata": {},
   "outputs": [
    {
     "name": "stdout",
     "output_type": "stream",
     "text": [
      "Jumlah baris duplikat: 0\n"
     ]
    }
   ],
   "source": [
    "print(\"Jumlah baris duplikat:\", filtered_dataset.duplicated().sum())"
   ]
  },
  {
   "cell_type": "code",
   "execution_count": null,
   "metadata": {},
   "outputs": [
    {
     "data": {
      "image/png": "[encoded data removed]",
      "text/plain": [
       "<Figure size 800x800 with 1 Axes>"
      ]
     },
     "metadata": {},
     "output_type": "display_data"
    }
   ],
   "source": [
    "# Mengetahui distribusi dari label\n",
    "activity_counts = filtered_dataset['Activity'].value_counts()\n",
    "\n",
    "plt.figure(figsize=(8, 8))\n",
    "plt.pie(activity_counts, labels=activity_counts.index, autopct='%1.1f%%', startangle=140)\n",
    "plt.title('Distribution of Activities')\n",
    "plt.show()"
   ]
  },
  {
   "cell_type": "code",
   "execution_count": null,
   "metadata": {},
   "outputs": [],
   "source": [
    "features = filtered_dataset[selected_features[:-1]]\n",
    "label = filtered_dataset['Activity']\n",
    "\n",
    "# Normalisasi fitur menggunakan StandardScaler\n",
    "scaler = StandardScaler()\n",
    "normalized_features = scaler.fit_transform(features)\n",
    "normalized_features_df = pd.DataFrame(normalized_features, columns=features.columns)\n",
    "\n",
    "# One-hot encoding label\n",
    "one_hot_encoded_label = pd.get_dummies(label, prefix='Activity')"
   ]
  },
  {
   "cell_type": "code",
   "execution_count": 9,
   "metadata": {},
   "outputs": [
    {
     "data": {
      "text/html": [
       "<div>\n",
       "<style scoped>\n",
       "    .dataframe tbody tr th:only-of-type {\n",
       "        vertical-align: middle;\n",
       "    }\n",
       "\n",
       "    .dataframe tbody tr th {\n",
       "        vertical-align: top;\n",
       "    }\n",
       "\n",
       "    .dataframe thead th {\n",
       "        text-align: right;\n",
       "    }\n",
       "</style>\n",
       "<table border=\"1\" class=\"dataframe\">\n",
       "  <thead>\n",
       "    <tr style=\"text-align: right;\">\n",
       "      <th></th>\n",
       "      <th>tGravityAcc-mean()-X</th>\n",
       "      <th>tGravityAcc-max()-X</th>\n",
       "      <th>tGravityAcc-min()-X</th>\n",
       "      <th>angle(X,gravityMean)</th>\n",
       "      <th>tGravityAcc-energy()-X</th>\n",
       "      <th>tGravityAcc-max()-Y</th>\n",
       "      <th>angle(Y,gravityMean)</th>\n",
       "      <th>tGravityAcc-mean()-Y</th>\n",
       "      <th>tGravityAcc-min()-Y</th>\n",
       "      <th>fBodyAccMag-mad()</th>\n",
       "      <th>...</th>\n",
       "      <th>fBodyAccMag-std()</th>\n",
       "      <th>tGravityAcc-arCoeff()-Y,2</th>\n",
       "      <th>fBodyBodyAccJerkMag-sma()</th>\n",
       "      <th>fBodyBodyAccJerkMag-iqr()</th>\n",
       "      <th>Activity_LAYING</th>\n",
       "      <th>Activity_SITTING</th>\n",
       "      <th>Activity_STANDING</th>\n",
       "      <th>Activity_WALKING</th>\n",
       "      <th>Activity_WALKING_DOWNSTAIRS</th>\n",
       "      <th>Activity_WALKING_UPSTAIRS</th>\n",
       "    </tr>\n",
       "  </thead>\n",
       "  <tbody>\n",
       "    <tr>\n",
       "      <th>0</th>\n",
       "      <td>0.497065</td>\n",
       "      <td>0.562746</td>\n",
       "      <td>0.492422</td>\n",
       "      <td>-0.404790</td>\n",
       "      <td>0.519169</td>\n",
       "      <td>-0.659588</td>\n",
       "      <td>0.622723</td>\n",
       "      <td>-0.682787</td>\n",
       "      <td>-0.668792</td>\n",
       "      <td>-0.305468</td>\n",
       "      <td>...</td>\n",
       "      <td>-0.130599</td>\n",
       "      <td>1.516368</td>\n",
       "      <td>-0.681179</td>\n",
       "      <td>-0.708564</td>\n",
       "      <td>False</td>\n",
       "      <td>False</td>\n",
       "      <td>True</td>\n",
       "      <td>False</td>\n",
       "      <td>False</td>\n",
       "      <td>False</td>\n",
       "    </tr>\n",
       "    <tr>\n",
       "      <th>1</th>\n",
       "      <td>0.479322</td>\n",
       "      <td>0.464139</td>\n",
       "      <td>0.492422</td>\n",
       "      <td>-0.361739</td>\n",
       "      <td>0.484902</td>\n",
       "      <td>-0.726832</td>\n",
       "      <td>0.636731</td>\n",
       "      <td>-0.699252</td>\n",
       "      <td>-0.668792</td>\n",
       "      <td>-0.876041</td>\n",
       "      <td>...</td>\n",
       "      <td>-0.869217</td>\n",
       "      <td>1.355224</td>\n",
       "      <td>-0.802461</td>\n",
       "      <td>-0.809826</td>\n",
       "      <td>False</td>\n",
       "      <td>False</td>\n",
       "      <td>True</td>\n",
       "      <td>False</td>\n",
       "      <td>False</td>\n",
       "      <td>False</td>\n",
       "    </tr>\n",
       "    <tr>\n",
       "      <th>2</th>\n",
       "      <td>0.484226</td>\n",
       "      <td>0.464324</td>\n",
       "      <td>0.500861</td>\n",
       "      <td>-0.370932</td>\n",
       "      <td>0.494247</td>\n",
       "      <td>-0.726832</td>\n",
       "      <td>0.632845</td>\n",
       "      <td>-0.694937</td>\n",
       "      <td>-0.667520</td>\n",
       "      <td>-0.916271</td>\n",
       "      <td>...</td>\n",
       "      <td>-0.940618</td>\n",
       "      <td>-0.534165</td>\n",
       "      <td>-0.864170</td>\n",
       "      <td>-0.869516</td>\n",
       "      <td>False</td>\n",
       "      <td>False</td>\n",
       "      <td>True</td>\n",
       "      <td>False</td>\n",
       "      <td>False</td>\n",
       "      <td>False</td>\n",
       "    </tr>\n",
       "    <tr>\n",
       "      <th>3</th>\n",
       "      <td>0.482208</td>\n",
       "      <td>0.464324</td>\n",
       "      <td>0.498086</td>\n",
       "      <td>-0.363434</td>\n",
       "      <td>0.490398</td>\n",
       "      <td>-0.727438</td>\n",
       "      <td>0.645276</td>\n",
       "      <td>-0.709849</td>\n",
       "      <td>-0.696228</td>\n",
       "      <td>-0.915343</td>\n",
       "      <td>...</td>\n",
       "      <td>-0.935673</td>\n",
       "      <td>-0.508925</td>\n",
       "      <td>-0.865580</td>\n",
       "      <td>-0.875594</td>\n",
       "      <td>False</td>\n",
       "      <td>False</td>\n",
       "      <td>True</td>\n",
       "      <td>False</td>\n",
       "      <td>False</td>\n",
       "      <td>False</td>\n",
       "    </tr>\n",
       "    <tr>\n",
       "      <th>4</th>\n",
       "      <td>0.477752</td>\n",
       "      <td>0.459725</td>\n",
       "      <td>0.495922</td>\n",
       "      <td>-0.350256</td>\n",
       "      <td>0.481905</td>\n",
       "      <td>-0.746990</td>\n",
       "      <td>0.665657</td>\n",
       "      <td>-0.734093</td>\n",
       "      <td>-0.712230</td>\n",
       "      <td>-0.912684</td>\n",
       "      <td>...</td>\n",
       "      <td>-0.925926</td>\n",
       "      <td>0.449831</td>\n",
       "      <td>-0.903701</td>\n",
       "      <td>-0.902912</td>\n",
       "      <td>False</td>\n",
       "      <td>False</td>\n",
       "      <td>True</td>\n",
       "      <td>False</td>\n",
       "      <td>False</td>\n",
       "      <td>False</td>\n",
       "    </tr>\n",
       "  </tbody>\n",
       "</table>\n",
       "<p>5 rows × 21 columns</p>\n",
       "</div>"
      ],
      "text/plain": [
       "   tGravityAcc-mean()-X  tGravityAcc-max()-X  tGravityAcc-min()-X  \\\n",
       "0              0.497065             0.562746             0.492422   \n",
       "1              0.479322             0.464139             0.492422   \n",
       "2              0.484226             0.464324             0.500861   \n",
       "3              0.482208             0.464324             0.498086   \n",
       "4              0.477752             0.459725             0.495922   \n",
       "\n",
       "   angle(X,gravityMean)  tGravityAcc-energy()-X  tGravityAcc-max()-Y  \\\n",
       "0             -0.404790                0.519169            -0.659588   \n",
       "1             -0.361739                0.484902            -0.726832   \n",
       "2             -0.370932                0.494247            -0.726832   \n",
       "3             -0.363434                0.490398            -0.727438   \n",
       "4             -0.350256                0.481905            -0.746990   \n",
       "\n",
       "   angle(Y,gravityMean)  tGravityAcc-mean()-Y  tGravityAcc-min()-Y  \\\n",
       "0              0.622723             -0.682787            -0.668792   \n",
       "1              0.636731             -0.699252            -0.668792   \n",
       "2              0.632845             -0.694937            -0.667520   \n",
       "3              0.645276             -0.709849            -0.696228   \n",
       "4              0.665657             -0.734093            -0.712230   \n",
       "\n",
       "   fBodyAccMag-mad()  ...  fBodyAccMag-std()  tGravityAcc-arCoeff()-Y,2  \\\n",
       "0          -0.305468  ...          -0.130599                   1.516368   \n",
       "1          -0.876041  ...          -0.869217                   1.355224   \n",
       "2          -0.916271  ...          -0.940618                  -0.534165   \n",
       "3          -0.915343  ...          -0.935673                  -0.508925   \n",
       "4          -0.912684  ...          -0.925926                   0.449831   \n",
       "\n",
       "   fBodyBodyAccJerkMag-sma()  fBodyBodyAccJerkMag-iqr()  Activity_LAYING  \\\n",
       "0                  -0.681179                  -0.708564            False   \n",
       "1                  -0.802461                  -0.809826            False   \n",
       "2                  -0.864170                  -0.869516            False   \n",
       "3                  -0.865580                  -0.875594            False   \n",
       "4                  -0.903701                  -0.902912            False   \n",
       "\n",
       "   Activity_SITTING  Activity_STANDING  Activity_WALKING  \\\n",
       "0             False               True             False   \n",
       "1             False               True             False   \n",
       "2             False               True             False   \n",
       "3             False               True             False   \n",
       "4             False               True             False   \n",
       "\n",
       "   Activity_WALKING_DOWNSTAIRS  Activity_WALKING_UPSTAIRS  \n",
       "0                        False                      False  \n",
       "1                        False                      False  \n",
       "2                        False                      False  \n",
       "3                        False                      False  \n",
       "4                        False                      False  \n",
       "\n",
       "[5 rows x 21 columns]"
      ]
     },
     "execution_count": 9,
     "metadata": {},
     "output_type": "execute_result"
    }
   ],
   "source": [
    "final_dataset = pd.concat([normalized_features_df, one_hot_encoded_label], axis=1)\n",
    "final_dataset.head()"
   ]
  },
  {
   "cell_type": "markdown",
   "metadata": {},
   "source": [
    "### b. Splitting dataset"
   ]
  },
  {
   "cell_type": "code",
   "execution_count": null,
   "metadata": {},
   "outputs": [
    {
     "name": "stdout",
     "output_type": "stream",
     "text": [
      "Training set: (2357, 15) (2357, 6) (79.98%)\n",
      "Validation set: (295, 15) (295, 6) (10.01%)\n",
      "Test set: (295, 15) (295, 6) (10.01%)\n"
     ]
    }
   ],
   "source": [
    "X = final_dataset.drop(columns=one_hot_encoded_label.columns)\n",
    "y = final_dataset[one_hot_encoded_label.columns]\n",
    "\n",
    "# Split dataset menjadi training, validation, dan test set (80:10:10)\n",
    "X_train, X_temp, y_train, y_temp = train_test_split(X, y, test_size=0.2, random_state=42, shuffle=True)\n",
    "X_val, X_test, y_val, y_test = train_test_split(X_temp, y_temp, test_size=0.5, random_state=42, shuffle=True)\n",
    "\n",
    "total_samples = len(final_dataset)\n",
    "\n",
    "print(\"Training set:\", X_train.shape, y_train.shape, f\"({len(X_train) / total_samples * 100:.2f}%)\")\n",
    "print(\"Validation set:\", X_val.shape, y_val.shape, f\"({len(X_val) / total_samples * 100:.2f}%)\")\n",
    "print(\"Test set:\", X_test.shape, y_test.shape, f\"({len(X_test) / total_samples * 100:.2f}%)\")"
   ]
  },
  {
   "cell_type": "markdown",
   "metadata": {},
   "source": [
    "### c. Arsitektur model"
   ]
  },
  {
   "cell_type": "code",
   "execution_count": null,
   "metadata": {},
   "outputs": [
    {
     "name": "stderr",
     "output_type": "stream",
     "text": [
      "/home/kelvin/.conda/envs/tf-gpu2/lib/python3.10/site-packages/keras/src/layers/core/dense.py:87: UserWarning: Do not pass an `input_shape`/`input_dim` argument to a layer. When using Sequential models, prefer using an `Input(shape)` object as the first layer in the model instead.\n",
      "  super().__init__(activity_regularizer=activity_regularizer, **kwargs)\n",
      "WARNING: All log messages before absl::InitializeLog() is called are written to STDERR\n",
      "I0000 00:00:1731030420.718096    1067 cuda_executor.cc:1001] could not open file to read NUMA node: /sys/bus/pci/devices/0000:01:00.0/numa_node\n",
      "Your kernel may have been built without NUMA support.\n",
      "I0000 00:00:1731030421.093008    1067 cuda_executor.cc:1001] could not open file to read NUMA node: /sys/bus/pci/devices/0000:01:00.0/numa_node\n",
      "Your kernel may have been built without NUMA support.\n",
      "I0000 00:00:1731030421.094034    1067 cuda_executor.cc:1001] could not open file to read NUMA node: /sys/bus/pci/devices/0000:01:00.0/numa_node\n",
      "Your kernel may have been built without NUMA support.\n",
      "I0000 00:00:1731030421.100257    1067 cuda_executor.cc:1001] could not open file to read NUMA node: /sys/bus/pci/devices/0000:01:00.0/numa_node\n",
      "Your kernel may have been built without NUMA support.\n",
      "I0000 00:00:1731030421.100358    1067 cuda_executor.cc:1001] could not open file to read NUMA node: /sys/bus/pci/devices/0000:01:00.0/numa_node\n",
      "Your kernel may have been built without NUMA support.\n",
      "I0000 00:00:1731030421.100387    1067 cuda_executor.cc:1001] could not open file to read NUMA node: /sys/bus/pci/devices/0000:01:00.0/numa_node\n",
      "Your kernel may have been built without NUMA support.\n",
      "I0000 00:00:1731030421.377335    1067 cuda_executor.cc:1001] could not open file to read NUMA node: /sys/bus/pci/devices/0000:01:00.0/numa_node\n",
      "Your kernel may have been built without NUMA support.\n",
      "I0000 00:00:1731030421.377408    1067 cuda_executor.cc:1001] could not open file to read NUMA node: /sys/bus/pci/devices/0000:01:00.0/numa_node\n",
      "Your kernel may have been built without NUMA support.\n",
      "2024-11-08 08:47:01.377419: I tensorflow/core/common_runtime/gpu/gpu_device.cc:2112] Could not identify NUMA node of platform GPU id 0, defaulting to 0.  Your kernel may not have been built with NUMA support.\n",
      "I0000 00:00:1731030421.377465    1067 cuda_executor.cc:1001] could not open file to read NUMA node: /sys/bus/pci/devices/0000:01:00.0/numa_node\n",
      "Your kernel may have been built without NUMA support.\n",
      "2024-11-08 08:47:01.377961: I tensorflow/core/common_runtime/gpu/gpu_device.cc:2021] Created device /job:localhost/replica:0/task:0/device:GPU:0 with 1768 MB memory:  -> device: 0, name: NVIDIA GeForce RTX 3050 Laptop GPU, pci bus id: 0000:01:00.0, compute capability: 8.6\n"
     ]
    },
    {
     "data": {
      "text/html": [
       "<pre style=\"white-space:pre;overflow-x:auto;line-height:normal;font-family:Menlo,'DejaVu Sans Mono',consolas,'Courier New',monospace\"><span style=\"font-weight: bold\">Model: \"sequential\"</span>\n",
       "</pre>\n"
      ],
      "text/plain": [
       "\u001b[1mModel: \"sequential\"\u001b[0m\n"
      ]
     },
     "metadata": {},
     "output_type": "display_data"
    },
    {
     "data": {
      "text/html": [
       "<pre style=\"white-space:pre;overflow-x:auto;line-height:normal;font-family:Menlo,'DejaVu Sans Mono',consolas,'Courier New',monospace\">┏━━━━━━━━━━━━━━━━━━━━━━━━━━━━━━━━━┳━━━━━━━━━━━━━━━━━━━━━━━━┳━━━━━━━━━━━━━━━┓\n",
       "┃<span style=\"font-weight: bold\"> Layer (type)                    </span>┃<span style=\"font-weight: bold\"> Output Shape           </span>┃<span style=\"font-weight: bold\">       Param # </span>┃\n",
       "┡━━━━━━━━━━━━━━━━━━━━━━━━━━━━━━━━━╇━━━━━━━━━━━━━━━━━━━━━━━━╇━━━━━━━━━━━━━━━┩\n",
       "│ dense (<span style=\"color: #0087ff; text-decoration-color: #0087ff\">Dense</span>)                   │ (<span style=\"color: #00d7ff; text-decoration-color: #00d7ff\">None</span>, <span style=\"color: #00af00; text-decoration-color: #00af00\">512</span>)            │         <span style=\"color: #00af00; text-decoration-color: #00af00\">8,192</span> │\n",
       "├─────────────────────────────────┼────────────────────────┼───────────────┤\n",
       "│ dense_1 (<span style=\"color: #0087ff; text-decoration-color: #0087ff\">Dense</span>)                 │ (<span style=\"color: #00d7ff; text-decoration-color: #00d7ff\">None</span>, <span style=\"color: #00af00; text-decoration-color: #00af00\">256</span>)            │       <span style=\"color: #00af00; text-decoration-color: #00af00\">131,328</span> │\n",
       "├─────────────────────────────────┼────────────────────────┼───────────────┤\n",
       "│ dense_2 (<span style=\"color: #0087ff; text-decoration-color: #0087ff\">Dense</span>)                 │ (<span style=\"color: #00d7ff; text-decoration-color: #00d7ff\">None</span>, <span style=\"color: #00af00; text-decoration-color: #00af00\">128</span>)            │        <span style=\"color: #00af00; text-decoration-color: #00af00\">32,896</span> │\n",
       "├─────────────────────────────────┼────────────────────────┼───────────────┤\n",
       "│ dense_3 (<span style=\"color: #0087ff; text-decoration-color: #0087ff\">Dense</span>)                 │ (<span style=\"color: #00d7ff; text-decoration-color: #00d7ff\">None</span>, <span style=\"color: #00af00; text-decoration-color: #00af00\">64</span>)             │         <span style=\"color: #00af00; text-decoration-color: #00af00\">8,256</span> │\n",
       "├─────────────────────────────────┼────────────────────────┼───────────────┤\n",
       "│ dense_4 (<span style=\"color: #0087ff; text-decoration-color: #0087ff\">Dense</span>)                 │ (<span style=\"color: #00d7ff; text-decoration-color: #00d7ff\">None</span>, <span style=\"color: #00af00; text-decoration-color: #00af00\">6</span>)              │           <span style=\"color: #00af00; text-decoration-color: #00af00\">390</span> │\n",
       "└─────────────────────────────────┴────────────────────────┴───────────────┘\n",
       "</pre>\n"
      ],
      "text/plain": [
       "┏━━━━━━━━━━━━━━━━━━━━━━━━━━━━━━━━━┳━━━━━━━━━━━━━━━━━━━━━━━━┳━━━━━━━━━━━━━━━┓\n",
       "┃\u001b[1m \u001b[0m\u001b[1mLayer (type)                   \u001b[0m\u001b[1m \u001b[0m┃\u001b[1m \u001b[0m\u001b[1mOutput Shape          \u001b[0m\u001b[1m \u001b[0m┃\u001b[1m \u001b[0m\u001b[1m      Param #\u001b[0m\u001b[1m \u001b[0m┃\n",
       "┡━━━━━━━━━━━━━━━━━━━━━━━━━━━━━━━━━╇━━━━━━━━━━━━━━━━━━━━━━━━╇━━━━━━━━━━━━━━━┩\n",
       "│ dense (\u001b[38;5;33mDense\u001b[0m)                   │ (\u001b[38;5;45mNone\u001b[0m, \u001b[38;5;34m512\u001b[0m)            │         \u001b[38;5;34m8,192\u001b[0m │\n",
       "├─────────────────────────────────┼────────────────────────┼───────────────┤\n",
       "│ dense_1 (\u001b[38;5;33mDense\u001b[0m)                 │ (\u001b[38;5;45mNone\u001b[0m, \u001b[38;5;34m256\u001b[0m)            │       \u001b[38;5;34m131,328\u001b[0m │\n",
       "├─────────────────────────────────┼────────────────────────┼───────────────┤\n",
       "│ dense_2 (\u001b[38;5;33mDense\u001b[0m)                 │ (\u001b[38;5;45mNone\u001b[0m, \u001b[38;5;34m128\u001b[0m)            │        \u001b[38;5;34m32,896\u001b[0m │\n",
       "├─────────────────────────────────┼────────────────────────┼───────────────┤\n",
       "│ dense_3 (\u001b[38;5;33mDense\u001b[0m)                 │ (\u001b[38;5;45mNone\u001b[0m, \u001b[38;5;34m64\u001b[0m)             │         \u001b[38;5;34m8,256\u001b[0m │\n",
       "├─────────────────────────────────┼────────────────────────┼───────────────┤\n",
       "│ dense_4 (\u001b[38;5;33mDense\u001b[0m)                 │ (\u001b[38;5;45mNone\u001b[0m, \u001b[38;5;34m6\u001b[0m)              │           \u001b[38;5;34m390\u001b[0m │\n",
       "└─────────────────────────────────┴────────────────────────┴───────────────┘\n"
      ]
     },
     "metadata": {},
     "output_type": "display_data"
    },
    {
     "data": {
      "text/html": [
       "<pre style=\"white-space:pre;overflow-x:auto;line-height:normal;font-family:Menlo,'DejaVu Sans Mono',consolas,'Courier New',monospace\"><span style=\"font-weight: bold\"> Total params: </span><span style=\"color: #00af00; text-decoration-color: #00af00\">181,062</span> (707.27 KB)\n",
       "</pre>\n"
      ],
      "text/plain": [
       "\u001b[1m Total params: \u001b[0m\u001b[38;5;34m181,062\u001b[0m (707.27 KB)\n"
      ]
     },
     "metadata": {},
     "output_type": "display_data"
    },
    {
     "data": {
      "text/html": [
       "<pre style=\"white-space:pre;overflow-x:auto;line-height:normal;font-family:Menlo,'DejaVu Sans Mono',consolas,'Courier New',monospace\"><span style=\"font-weight: bold\"> Trainable params: </span><span style=\"color: #00af00; text-decoration-color: #00af00\">181,062</span> (707.27 KB)\n",
       "</pre>\n"
      ],
      "text/plain": [
       "\u001b[1m Trainable params: \u001b[0m\u001b[38;5;34m181,062\u001b[0m (707.27 KB)\n"
      ]
     },
     "metadata": {},
     "output_type": "display_data"
    },
    {
     "data": {
      "text/html": [
       "<pre style=\"white-space:pre;overflow-x:auto;line-height:normal;font-family:Menlo,'DejaVu Sans Mono',consolas,'Courier New',monospace\"><span style=\"font-weight: bold\"> Non-trainable params: </span><span style=\"color: #00af00; text-decoration-color: #00af00\">0</span> (0.00 B)\n",
       "</pre>\n"
      ],
      "text/plain": [
       "\u001b[1m Non-trainable params: \u001b[0m\u001b[38;5;34m0\u001b[0m (0.00 B)\n"
      ]
     },
     "metadata": {},
     "output_type": "display_data"
    }
   ],
   "source": [
    "# Define model\n",
    "model = Sequential()\n",
    "model.add(Dense(512, activation='sigmoid', input_shape=X_train.shape[1:]))\n",
    "model.add(Dense(256, activation='sigmoid'))\n",
    "model.add(Dense(128, activation='sigmoid'))\n",
    "model.add(Dense(64, activation='sigmoid'))\n",
    "model.add(Dense(y_train.shape[1], activation='softmax'))\n",
    "\n",
    "model.compile(optimizer=Adam(), loss='categorical_crossentropy', metrics=['accuracy'])\n",
    "model.summary()"
   ]
  },
  {
   "cell_type": "markdown",
   "metadata": {},
   "source": [
    "#### d. Training dengan 50 epoch dan plotting loss accuracy dan penjelasan"
   ]
  },
  {
   "cell_type": "code",
   "execution_count": null,
   "metadata": {},
   "outputs": [
    {
     "name": "stdout",
     "output_type": "stream",
     "text": [
      "Epoch 1/50\n"
     ]
    },
    {
     "name": "stderr",
     "output_type": "stream",
     "text": [
      "WARNING: All log messages before absl::InitializeLog() is called are written to STDERR\n",
      "I0000 00:00:1731030424.334972    3891 service.cc:146] XLA service 0x7f9a40016960 initialized for platform CUDA (this does not guarantee that XLA will be used). Devices:\n",
      "I0000 00:00:1731030424.335032    3891 service.cc:154]   StreamExecutor device (0): NVIDIA GeForce RTX 3050 Laptop GPU, Compute Capability 8.6\n",
      "2024-11-08 08:47:04.387544: I tensorflow/compiler/mlir/tensorflow/utils/dump_mlir_util.cc:268] disabling MLIR crash reproducer, set env var `MLIR_CRASH_REPRODUCER_DIRECTORY` to enable.\n",
      "2024-11-08 08:47:04.631939: I external/local_xla/xla/stream_executor/cuda/cuda_dnn.cc:531] Loaded cuDNN version 8907\n",
      "2024-11-08 08:47:12.340216: I external/local_xla/xla/stream_executor/cuda/cuda_asm_compiler.cc:393] ptxas warning : Registers are spilled to local memory in function 'gemm_fusion_dot_447', 36 bytes spill stores, 40 bytes spill loads\n",
      "\n",
      "2024-11-08 08:47:13.396851: I external/local_xla/xla/stream_executor/cuda/cuda_asm_compiler.cc:393] ptxas warning : Registers are spilled to local memory in function 'gemm_fusion_dot_449', 36 bytes spill stores, 40 bytes spill loads\n",
      "\n",
      "2024-11-08 08:47:14.703430: I external/local_xla/xla/stream_executor/cuda/cuda_asm_compiler.cc:393] ptxas warning : Registers are spilled to local memory in function 'gemm_fusion_dot_447', 32 bytes spill stores, 32 bytes spill loads\n",
      "\n"
     ]
    },
    {
     "name": "stdout",
     "output_type": "stream",
     "text": [
      "\u001b[1m 7/74\u001b[0m \u001b[32m━\u001b[0m\u001b[37m━━━━━━━━━━━━━━━━━━━\u001b[0m \u001b[1m1s\u001b[0m 19ms/step - accuracy: 0.1441 - loss: 1.8307"
     ]
    },
    {
     "name": "stderr",
     "output_type": "stream",
     "text": [
      "I0000 00:00:1731030443.177164    3891 device_compiler.h:188] Compiled cluster using XLA!  This line is logged at most once for the lifetime of the process.\n"
     ]
    },
    {
     "name": "stdout",
     "output_type": "stream",
     "text": [
      "\u001b[1m68/74\u001b[0m \u001b[32m━━━━━━━━━━━━━━━━━━\u001b[0m\u001b[37m━━\u001b[0m \u001b[1m0s\u001b[0m 10ms/step - accuracy: 0.2169 - loss: 1.7581"
     ]
    },
    {
     "name": "stderr",
     "output_type": "stream",
     "text": [
      "2024-11-08 08:47:44.128776: I external/local_xla/xla/stream_executor/cuda/cuda_asm_compiler.cc:393] ptxas warning : Registers are spilled to local memory in function 'gemm_fusion_dot_447', 32 bytes spill stores, 32 bytes spill loads\n",
      "\n",
      "2024-11-08 08:47:46.057273: I external/local_xla/xla/stream_executor/cuda/cuda_asm_compiler.cc:393] ptxas warning : Registers are spilled to local memory in function 'gemm_fusion_dot_449', 36 bytes spill stores, 40 bytes spill loads\n",
      "\n",
      "2024-11-08 08:47:46.233737: I external/local_xla/xla/stream_executor/cuda/cuda_asm_compiler.cc:393] ptxas warning : Registers are spilled to local memory in function 'gemm_fusion_dot_447', 36 bytes spill stores, 40 bytes spill loads\n",
      "\n"
     ]
    },
    {
     "name": "stdout",
     "output_type": "stream",
     "text": [
      "\u001b[1m74/74\u001b[0m \u001b[32m━━━━━━━━━━━━━━━━━━━━\u001b[0m\u001b[37m\u001b[0m \u001b[1m63s\u001b[0m 585ms/step - accuracy: 0.2252 - loss: 1.7475 - val_accuracy: 0.5017 - val_loss: 1.2641\n",
      "Epoch 2/50\n",
      "\u001b[1m74/74\u001b[0m \u001b[32m━━━━━━━━━━━━━━━━━━━━\u001b[0m\u001b[37m\u001b[0m \u001b[1m1s\u001b[0m 8ms/step - accuracy: 0.5448 - loss: 1.0529 - val_accuracy: 0.6678 - val_loss: 0.8273\n",
      "Epoch 3/50\n",
      "\u001b[1m74/74\u001b[0m \u001b[32m━━━━━━━━━━━━━━━━━━━━\u001b[0m\u001b[37m\u001b[0m \u001b[1m1s\u001b[0m 9ms/step - accuracy: 0.6482 - loss: 0.7827 - val_accuracy: 0.5898 - val_loss: 0.7654\n",
      "Epoch 4/50\n",
      "\u001b[1m74/74\u001b[0m \u001b[32m━━━━━━━━━━━━━━━━━━━━\u001b[0m\u001b[37m\u001b[0m \u001b[1m1s\u001b[0m 9ms/step - accuracy: 0.6608 - loss: 0.7006 - val_accuracy: 0.6576 - val_loss: 0.6899\n",
      "Epoch 5/50\n",
      "\u001b[1m74/74\u001b[0m \u001b[32m━━━━━━━━━━━━━━━━━━━━\u001b[0m\u001b[37m\u001b[0m \u001b[1m1s\u001b[0m 9ms/step - accuracy: 0.7332 - loss: 0.6083 - val_accuracy: 0.7627 - val_loss: 0.6036\n",
      "Epoch 6/50\n",
      "\u001b[1m74/74\u001b[0m \u001b[32m━━━━━━━━━━━━━━━━━━━━\u001b[0m\u001b[37m\u001b[0m \u001b[1m1s\u001b[0m 11ms/step - accuracy: 0.7908 - loss: 0.5509 - val_accuracy: 0.8203 - val_loss: 0.5133\n",
      "Epoch 7/50\n",
      "\u001b[1m74/74\u001b[0m \u001b[32m━━━━━━━━━━━━━━━━━━━━\u001b[0m\u001b[37m\u001b[0m \u001b[1m1s\u001b[0m 12ms/step - accuracy: 0.8287 - loss: 0.4768 - val_accuracy: 0.8441 - val_loss: 0.4404\n",
      "Epoch 8/50\n",
      "\u001b[1m74/74\u001b[0m \u001b[32m━━━━━━━━━━━━━━━━━━━━\u001b[0m\u001b[37m\u001b[0m \u001b[1m1s\u001b[0m 10ms/step - accuracy: 0.8393 - loss: 0.4080 - val_accuracy: 0.8407 - val_loss: 0.3937\n",
      "Epoch 9/50\n",
      "\u001b[1m74/74\u001b[0m \u001b[32m━━━━━━━━━━━━━━━━━━━━\u001b[0m\u001b[37m\u001b[0m \u001b[1m1s\u001b[0m 7ms/step - accuracy: 0.8578 - loss: 0.3715 - val_accuracy: 0.8441 - val_loss: 0.3839\n",
      "Epoch 10/50\n",
      "\u001b[1m74/74\u001b[0m \u001b[32m━━━━━━━━━━━━━━━━━━━━\u001b[0m\u001b[37m\u001b[0m \u001b[1m1s\u001b[0m 9ms/step - accuracy: 0.8530 - loss: 0.3633 - val_accuracy: 0.8203 - val_loss: 0.4293\n",
      "Epoch 11/50\n",
      "\u001b[1m74/74\u001b[0m \u001b[32m━━━━━━━━━━━━━━━━━━━━\u001b[0m\u001b[37m\u001b[0m \u001b[1m1s\u001b[0m 15ms/step - accuracy: 0.8664 - loss: 0.3564 - val_accuracy: 0.8610 - val_loss: 0.3637\n",
      "Epoch 12/50\n",
      "\u001b[1m74/74\u001b[0m \u001b[32m━━━━━━━━━━━━━━━━━━━━\u001b[0m\u001b[37m\u001b[0m \u001b[1m1s\u001b[0m 9ms/step - accuracy: 0.8638 - loss: 0.3392 - val_accuracy: 0.8576 - val_loss: 0.3549\n",
      "Epoch 13/50\n",
      "\u001b[1m74/74\u001b[0m \u001b[32m━━━━━━━━━━━━━━━━━━━━\u001b[0m\u001b[37m\u001b[0m \u001b[1m1s\u001b[0m 7ms/step - accuracy: 0.8716 - loss: 0.3282 - val_accuracy: 0.8644 - val_loss: 0.3281\n",
      "Epoch 14/50\n",
      "\u001b[1m74/74\u001b[0m \u001b[32m━━━━━━━━━━━━━━━━━━━━\u001b[0m\u001b[37m\u001b[0m \u001b[1m1s\u001b[0m 6ms/step - accuracy: 0.8745 - loss: 0.3040 - val_accuracy: 0.8576 - val_loss: 0.3372\n",
      "Epoch 15/50\n",
      "\u001b[1m74/74\u001b[0m \u001b[32m━━━━━━━━━━━━━━━━━━━━\u001b[0m\u001b[37m\u001b[0m \u001b[1m1s\u001b[0m 12ms/step - accuracy: 0.8654 - loss: 0.3199 - val_accuracy: 0.8644 - val_loss: 0.3448\n",
      "Epoch 16/50\n",
      "\u001b[1m74/74\u001b[0m \u001b[32m━━━━━━━━━━━━━━━━━━━━\u001b[0m\u001b[37m\u001b[0m \u001b[1m1s\u001b[0m 15ms/step - accuracy: 0.8830 - loss: 0.3006 - val_accuracy: 0.8644 - val_loss: 0.3304\n",
      "Epoch 17/50\n",
      "\u001b[1m74/74\u001b[0m \u001b[32m━━━━━━━━━━━━━━━━━━━━\u001b[0m\u001b[37m\u001b[0m \u001b[1m1s\u001b[0m 18ms/step - accuracy: 0.8873 - loss: 0.2990 - val_accuracy: 0.8542 - val_loss: 0.3263\n",
      "Epoch 18/50\n",
      "\u001b[1m74/74\u001b[0m \u001b[32m━━━━━━━━━━━━━━━━━━━━\u001b[0m\u001b[37m\u001b[0m \u001b[1m1s\u001b[0m 16ms/step - accuracy: 0.8734 - loss: 0.3077 - val_accuracy: 0.8644 - val_loss: 0.3169\n",
      "Epoch 19/50\n",
      "\u001b[1m74/74\u001b[0m \u001b[32m━━━━━━━━━━━━━━━━━━━━\u001b[0m\u001b[37m\u001b[0m \u001b[1m1s\u001b[0m 7ms/step - accuracy: 0.8692 - loss: 0.3077 - val_accuracy: 0.8847 - val_loss: 0.2966\n",
      "Epoch 20/50\n",
      "\u001b[1m74/74\u001b[0m \u001b[32m━━━━━━━━━━━━━━━━━━━━\u001b[0m\u001b[37m\u001b[0m \u001b[1m0s\u001b[0m 6ms/step - accuracy: 0.8749 - loss: 0.2855 - val_accuracy: 0.8441 - val_loss: 0.3672\n",
      "Epoch 21/50\n",
      "\u001b[1m74/74\u001b[0m \u001b[32m━━━━━━━━━━━━━━━━━━━━\u001b[0m\u001b[37m\u001b[0m \u001b[1m1s\u001b[0m 10ms/step - accuracy: 0.8840 - loss: 0.3012 - val_accuracy: 0.8644 - val_loss: 0.3181\n",
      "Epoch 22/50\n",
      "\u001b[1m74/74\u001b[0m \u001b[32m━━━━━━━━━━━━━━━━━━━━\u001b[0m\u001b[37m\u001b[0m \u001b[1m1s\u001b[0m 8ms/step - accuracy: 0.8945 - loss: 0.2729 - val_accuracy: 0.8983 - val_loss: 0.2913\n",
      "Epoch 23/50\n",
      "\u001b[1m74/74\u001b[0m \u001b[32m━━━━━━━━━━━━━━━━━━━━\u001b[0m\u001b[37m\u001b[0m \u001b[1m1s\u001b[0m 12ms/step - accuracy: 0.8848 - loss: 0.2818 - val_accuracy: 0.8712 - val_loss: 0.3027\n",
      "Epoch 24/50\n",
      "\u001b[1m74/74\u001b[0m \u001b[32m━━━━━━━━━━━━━━━━━━━━\u001b[0m\u001b[37m\u001b[0m \u001b[1m1s\u001b[0m 16ms/step - accuracy: 0.8757 - loss: 0.2958 - val_accuracy: 0.8780 - val_loss: 0.2946\n",
      "Epoch 25/50\n",
      "\u001b[1m74/74\u001b[0m \u001b[32m━━━━━━━━━━━━━━━━━━━━\u001b[0m\u001b[37m\u001b[0m \u001b[1m1s\u001b[0m 15ms/step - accuracy: 0.8734 - loss: 0.2942 - val_accuracy: 0.8915 - val_loss: 0.2795\n",
      "Epoch 26/50\n",
      "\u001b[1m74/74\u001b[0m \u001b[32m━━━━━━━━━━━━━━━━━━━━\u001b[0m\u001b[37m\u001b[0m \u001b[1m1s\u001b[0m 12ms/step - accuracy: 0.8983 - loss: 0.2600 - val_accuracy: 0.8847 - val_loss: 0.2859\n",
      "Epoch 27/50\n",
      "\u001b[1m74/74\u001b[0m \u001b[32m━━━━━━━━━━━━━━━━━━━━\u001b[0m\u001b[37m\u001b[0m \u001b[1m1s\u001b[0m 9ms/step - accuracy: 0.8880 - loss: 0.2707 - val_accuracy: 0.8712 - val_loss: 0.2873\n",
      "Epoch 28/50\n",
      "\u001b[1m74/74\u001b[0m \u001b[32m━━━━━━━━━━━━━━━━━━━━\u001b[0m\u001b[37m\u001b[0m \u001b[1m1s\u001b[0m 10ms/step - accuracy: 0.8964 - loss: 0.2433 - val_accuracy: 0.8915 - val_loss: 0.2847\n",
      "Epoch 29/50\n",
      "\u001b[1m74/74\u001b[0m \u001b[32m━━━━━━━━━━━━━━━━━━━━\u001b[0m\u001b[37m\u001b[0m \u001b[1m1s\u001b[0m 8ms/step - accuracy: 0.8790 - loss: 0.2755 - val_accuracy: 0.8746 - val_loss: 0.2722\n",
      "Epoch 30/50\n",
      "\u001b[1m74/74\u001b[0m \u001b[32m━━━━━━━━━━━━━━━━━━━━\u001b[0m\u001b[37m\u001b[0m \u001b[1m1s\u001b[0m 7ms/step - accuracy: 0.8851 - loss: 0.2627 - val_accuracy: 0.8983 - val_loss: 0.2764\n",
      "Epoch 31/50\n",
      "\u001b[1m74/74\u001b[0m \u001b[32m━━━━━━━━━━━━━━━━━━━━\u001b[0m\u001b[37m\u001b[0m \u001b[1m1s\u001b[0m 11ms/step - accuracy: 0.9019 - loss: 0.2371 - val_accuracy: 0.8780 - val_loss: 0.2839\n",
      "Epoch 32/50\n",
      "\u001b[1m74/74\u001b[0m \u001b[32m━━━━━━━━━━━━━━━━━━━━\u001b[0m\u001b[37m\u001b[0m \u001b[1m1s\u001b[0m 12ms/step - accuracy: 0.8834 - loss: 0.2637 - val_accuracy: 0.8847 - val_loss: 0.2953\n",
      "Epoch 33/50\n",
      "\u001b[1m74/74\u001b[0m \u001b[32m━━━━━━━━━━━━━━━━━━━━\u001b[0m\u001b[37m\u001b[0m \u001b[1m1s\u001b[0m 10ms/step - accuracy: 0.8869 - loss: 0.2574 - val_accuracy: 0.8847 - val_loss: 0.2704\n",
      "Epoch 34/50\n",
      "\u001b[1m74/74\u001b[0m \u001b[32m━━━━━━━━━━━━━━━━━━━━\u001b[0m\u001b[37m\u001b[0m \u001b[1m1s\u001b[0m 6ms/step - accuracy: 0.8901 - loss: 0.2456 - val_accuracy: 0.8678 - val_loss: 0.3019\n",
      "Epoch 35/50\n",
      "\u001b[1m74/74\u001b[0m \u001b[32m━━━━━━━━━━━━━━━━━━━━\u001b[0m\u001b[37m\u001b[0m \u001b[1m1s\u001b[0m 7ms/step - accuracy: 0.8907 - loss: 0.2596 - val_accuracy: 0.8915 - val_loss: 0.2460\n",
      "Epoch 36/50\n",
      "\u001b[1m74/74\u001b[0m \u001b[32m━━━━━━━━━━━━━━━━━━━━\u001b[0m\u001b[37m\u001b[0m \u001b[1m1s\u001b[0m 12ms/step - accuracy: 0.8952 - loss: 0.2398 - val_accuracy: 0.8746 - val_loss: 0.2557\n",
      "Epoch 37/50\n",
      "\u001b[1m74/74\u001b[0m \u001b[32m━━━━━━━━━━━━━━━━━━━━\u001b[0m\u001b[37m\u001b[0m \u001b[1m1s\u001b[0m 7ms/step - accuracy: 0.9005 - loss: 0.2430 - val_accuracy: 0.8847 - val_loss: 0.2530\n",
      "Epoch 38/50\n",
      "\u001b[1m74/74\u001b[0m \u001b[32m━━━━━━━━━━━━━━━━━━━━\u001b[0m\u001b[37m\u001b[0m \u001b[1m1s\u001b[0m 7ms/step - accuracy: 0.9064 - loss: 0.2264 - val_accuracy: 0.8847 - val_loss: 0.2813\n",
      "Epoch 39/50\n",
      "\u001b[1m74/74\u001b[0m \u001b[32m━━━━━━━━━━━━━━━━━━━━\u001b[0m\u001b[37m\u001b[0m \u001b[1m1s\u001b[0m 7ms/step - accuracy: 0.8885 - loss: 0.2597 - val_accuracy: 0.8949 - val_loss: 0.2392\n",
      "Epoch 40/50\n",
      "\u001b[1m74/74\u001b[0m \u001b[32m━━━━━━━━━━━━━━━━━━━━\u001b[0m\u001b[37m\u001b[0m \u001b[1m1s\u001b[0m 6ms/step - accuracy: 0.8972 - loss: 0.2311 - val_accuracy: 0.9017 - val_loss: 0.2328\n",
      "Epoch 41/50\n",
      "\u001b[1m74/74\u001b[0m \u001b[32m━━━━━━━━━━━━━━━━━━━━\u001b[0m\u001b[37m\u001b[0m \u001b[1m1s\u001b[0m 7ms/step - accuracy: 0.8948 - loss: 0.2293 - val_accuracy: 0.8881 - val_loss: 0.2385\n",
      "Epoch 42/50\n",
      "\u001b[1m74/74\u001b[0m \u001b[32m━━━━━━━━━━━━━━━━━━━━\u001b[0m\u001b[37m\u001b[0m \u001b[1m1s\u001b[0m 12ms/step - accuracy: 0.8994 - loss: 0.2267 - val_accuracy: 0.8915 - val_loss: 0.2353\n",
      "Epoch 43/50\n",
      "\u001b[1m74/74\u001b[0m \u001b[32m━━━━━━━━━━━━━━━━━━━━\u001b[0m\u001b[37m\u001b[0m \u001b[1m1s\u001b[0m 9ms/step - accuracy: 0.8985 - loss: 0.2297 - val_accuracy: 0.8983 - val_loss: 0.2434\n",
      "Epoch 44/50\n",
      "\u001b[1m74/74\u001b[0m \u001b[32m━━━━━━━━━━━━━━━━━━━━\u001b[0m\u001b[37m\u001b[0m \u001b[1m1s\u001b[0m 7ms/step - accuracy: 0.8865 - loss: 0.2433 - val_accuracy: 0.8780 - val_loss: 0.2688\n",
      "Epoch 45/50\n",
      "\u001b[1m74/74\u001b[0m \u001b[32m━━━━━━━━━━━━━━━━━━━━\u001b[0m\u001b[37m\u001b[0m \u001b[1m0s\u001b[0m 6ms/step - accuracy: 0.8951 - loss: 0.2454 - val_accuracy: 0.9017 - val_loss: 0.2318\n",
      "Epoch 46/50\n",
      "\u001b[1m74/74\u001b[0m \u001b[32m━━━━━━━━━━━━━━━━━━━━\u001b[0m\u001b[37m\u001b[0m \u001b[1m1s\u001b[0m 9ms/step - accuracy: 0.9005 - loss: 0.2234 - val_accuracy: 0.9051 - val_loss: 0.2419\n",
      "Epoch 47/50\n",
      "\u001b[1m74/74\u001b[0m \u001b[32m━━━━━━━━━━━━━━━━━━━━\u001b[0m\u001b[37m\u001b[0m \u001b[1m1s\u001b[0m 7ms/step - accuracy: 0.8931 - loss: 0.2286 - val_accuracy: 0.9017 - val_loss: 0.2309\n",
      "Epoch 48/50\n",
      "\u001b[1m74/74\u001b[0m \u001b[32m━━━━━━━━━━━━━━━━━━━━\u001b[0m\u001b[37m\u001b[0m \u001b[1m1s\u001b[0m 6ms/step - accuracy: 0.8958 - loss: 0.2302 - val_accuracy: 0.9085 - val_loss: 0.2218\n",
      "Epoch 49/50\n",
      "\u001b[1m74/74\u001b[0m \u001b[32m━━━━━━━━━━━━━━━━━━━━\u001b[0m\u001b[37m\u001b[0m \u001b[1m1s\u001b[0m 7ms/step - accuracy: 0.9078 - loss: 0.2183 - val_accuracy: 0.8847 - val_loss: 0.2480\n",
      "Epoch 50/50\n",
      "\u001b[1m74/74\u001b[0m \u001b[32m━━━━━━━━━━━━━━━━━━━━\u001b[0m\u001b[37m\u001b[0m \u001b[1m0s\u001b[0m 4ms/step - accuracy: 0.9071 - loss: 0.2142 - val_accuracy: 0.8881 - val_loss: 0.2402\n"
     ]
    }
   ],
   "source": [
    "# Training model\n",
    "history = model.fit(X_train, y_train, validation_data=(X_val, y_val), epochs=50, batch_size=32)"
   ]
  },
  {
   "cell_type": "code",
   "execution_count": null,
   "metadata": {},
   "outputs": [
    {
     "data": {
      "image/png": "[encoded data removed]",
      "text/plain": [
       "<Figure size 1200x500 with 2 Axes>"
      ]
     },
     "metadata": {},
     "output_type": "display_data"
    }
   ],
   "source": [
    "# Plotting loss dan accuracy\n",
    "plt.figure(figsize=(12, 5))\n",
    "plt.subplot(1, 2, 1)\n",
    "plt.plot(history.history['loss'], label='Training Loss')\n",
    "plt.plot(history.history['val_loss'], label='Validation Loss')\n",
    "plt.title('Loss per Epoch')\n",
    "plt.xlabel('Epochs')\n",
    "plt.ylabel('Loss')\n",
    "plt.legend()\n",
    "\n",
    "plt.subplot(1, 2, 2)\n",
    "plt.plot(history.history['accuracy'], label='Training Accuracy')\n",
    "plt.plot(history.history['val_accuracy'], label='Validation Accuracy')\n",
    "plt.title('Accuracy per Epoch')\n",
    "plt.xlabel('Epochs')\n",
    "plt.ylabel('Accuracy')\n",
    "plt.legend()\n",
    "plt.show()"
   ]
  },
  {
   "cell_type": "markdown",
   "metadata": {},
   "source": [
    "Berdasarkan plottingan grafik diatas, dapat diketahui bahwa model yang dihasilkan adalah right model karena terlihat bahwa model memiliki loss yang stabil dan rendah, serta accuracy yang diperoleh juga stabil dan tinggi yang menandakan bahwa model tidak underfitting. Antara training dan validation juga cukup seimbang yang menandakan bahwa model mampu generalisasi dengan baik terhadap data yang belum pernah dilihat sebelumnya dan tidak mengalami overfitting."
   ]
  },
  {
   "cell_type": "markdown",
   "metadata": {},
   "source": [
    "### e. Evaluation"
   ]
  },
  {
   "cell_type": "code",
   "execution_count": null,
   "metadata": {},
   "outputs": [
    {
     "name": "stdout",
     "output_type": "stream",
     "text": [
      "\u001b[1m10/10\u001b[0m \u001b[32m━━━━━━━━━━━━━━━━━━━━\u001b[0m\u001b[37m\u001b[0m \u001b[1m0s\u001b[0m 4ms/step - accuracy: 0.8750 - loss: 0.2530\n",
      "Test Loss: 0.2507\n",
      "Test Accuracy: 0.8746\n"
     ]
    }
   ],
   "source": [
    "# Evaluasi model\n",
    "loss, accuracy = model.evaluate(X_test, y_test)\n",
    "print(f\"Test Loss: {loss:.4f}\")\n",
    "print(f\"Test Accuracy: {accuracy:.4f}\")"
   ]
  },
  {
   "cell_type": "code",
   "execution_count": null,
   "metadata": {},
   "outputs": [
    {
     "name": "stdout",
     "output_type": "stream",
     "text": [
      "\u001b[1m10/10\u001b[0m \u001b[32m━━━━━━━━━━━━━━━━━━━━\u001b[0m\u001b[37m\u001b[0m \u001b[1m2s\u001b[0m 140ms/step\n"
     ]
    },
    {
     "data": {
      "image/png": "[encoded data removed]",
      "text/plain": [
       "<Figure size 800x600 with 2 Axes>"
      ]
     },
     "metadata": {},
     "output_type": "display_data"
    },
    {
     "name": "stdout",
     "output_type": "stream",
     "text": [
      "              precision    recall  f1-score   support\n",
      "\n",
      "           0       0.98      1.00      0.99        56\n",
      "           1       0.79      0.91      0.84        53\n",
      "           2       0.90      0.73      0.80        48\n",
      "           3       0.91      0.93      0.92        44\n",
      "           4       0.78      0.93      0.85        42\n",
      "           5       0.91      0.75      0.82        52\n",
      "\n",
      "    accuracy                           0.87       295\n",
      "   macro avg       0.88      0.87      0.87       295\n",
      "weighted avg       0.88      0.87      0.87       295\n",
      "\n"
     ]
    }
   ],
   "source": [
    "# Confusion matrix dan classification report\n",
    "y_pred = model.predict(X_test)\n",
    "y_pred_classes = np.argmax(y_pred, axis=1)\n",
    "y_test_classes = np.argmax(y_test.values, axis=1)\n",
    "\n",
    "conf_matrix = confusion_matrix(y_test_classes, y_pred_classes)\n",
    "\n",
    "plt.figure(figsize=(8, 6))\n",
    "sns.heatmap(conf_matrix, annot=True, fmt='d', cmap='Blues', xticklabels=np.unique(y_test_classes), yticklabels=np.unique(y_test_classes))\n",
    "plt.xlabel('Predicted Labels')\n",
    "plt.ylabel('True Labels')\n",
    "plt.title('Confusion Matrix')\n",
    "plt.show()\n",
    "\n",
    "\n",
    "print(classification_report(y_test_classes, y_pred_classes))"
   ]
  },
  {
   "cell_type": "markdown",
   "metadata": {},
   "source": [
    "Diketahui bahwa model memiliki performa yang cukup baik secara keseluruhan dengan test accuracy yang tinggi. Terlihat juga bahwa performa untuk klasifikasi class 2 dan 5 masih perlu perbaikan karena masih banyak yang salah klasifikasi."
   ]
  }
 ],
 "metadata": {
  "kernelspec": {
   "display_name": "tf-gpu2",
   "language": "python",
   "name": "python3"
  },
  "language_info": {
   "codemirror_mode": {
    "name": "ipython",
    "version": 3
   },
   "file_extension": ".py",
   "mimetype": "text/x-python",
   "name": "python",
   "nbconvert_exporter": "python",
   "pygments_lexer": "ipython3",
   "version": "3.10.4"
  }
 },
 "nbformat": 4,
 "nbformat_minor": 2
}
